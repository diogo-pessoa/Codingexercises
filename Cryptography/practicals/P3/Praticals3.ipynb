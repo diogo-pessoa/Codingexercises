{
 "cells": [
  {
   "metadata": {},
   "cell_type": "markdown",
   "source": [
    "Practicals 3\n",
    "---\n",
    "\n",
    "Basic Encoding/Decoding with Python"
   ],
   "id": "5e5c3bf66f224386"
  },
  {
   "metadata": {},
   "cell_type": "markdown",
   "source": "### ASCII example\n",
   "id": "c4b4d2540b28d9c4"
  },
  {
   "metadata": {
    "ExecuteTime": {
     "end_time": "2025-02-09T19:57:13.464122Z",
     "start_time": "2025-02-09T19:57:13.457802Z"
    }
   },
   "cell_type": "code",
   "source": [
    "from encodings.base64_codec import base64_decode\n",
    "\n",
    "from Cryptography.practicals.P3.bigint_convert import byte_array\n",
    "\n",
    "encodings_list = [65, 83, 67, 73, 73, 32, 115, 116, 97, 110, 100, 115, 32, 102,\n",
    "                  111, 114, 32, 65, 109, 101, 114, 105, 99, 97, 110, 32, 83,\n",
    "                  116, 97, 110, 100, 97, 114, 100, 32, 67, 111, 100, 101, 32,\n",
    "                  102, 111, 114, 32, 73, 110, 102, 111, 114, 109, 97, 116, 105,\n",
    "                  111, 110, 32, 73, 110, 116, 101, 114, 99, 104, 97, 110, 103,\n",
    "                  101, 46]"
   ],
   "id": "8d3dfcb8df01191",
   "outputs": [],
   "execution_count": 5
  },
  {
   "metadata": {
    "ExecuteTime": {
     "end_time": "2025-02-09T19:59:22.858486Z",
     "start_time": "2025-02-09T19:59:22.852441Z"
    }
   },
   "cell_type": "code",
   "source": [
    "plain_text = ''\n",
    "for c in encodings_list:\n",
    "    plain_text = plain_text + chr(c)"
   ],
   "id": "8e034694694af16b",
   "outputs": [],
   "execution_count": 14
  },
  {
   "metadata": {
    "ExecuteTime": {
     "end_time": "2025-02-09T19:59:23.466015Z",
     "start_time": "2025-02-09T19:59:23.461475Z"
    }
   },
   "cell_type": "code",
   "source": "plain_text",
   "id": "adff6cffb4e64ada",
   "outputs": [
    {
     "data": {
      "text/plain": [
       "'ASCII stands for American Standard Code for Information Interchange.'"
      ]
     },
     "execution_count": 15,
     "metadata": {},
     "output_type": "execute_result"
    }
   ],
   "execution_count": 15
  },
  {
   "metadata": {},
   "cell_type": "markdown",
   "source": "### Hexadecimal\n",
   "id": "baabdbee10e5e4b8"
  },
  {
   "metadata": {
    "ExecuteTime": {
     "end_time": "2025-02-09T20:02:24.304637Z",
     "start_time": "2025-02-09T20:02:24.300450Z"
    }
   },
   "cell_type": "code",
   "source": "hex_test = '456163682068657861646563696D616C20646967697420726570726573656E747320666F75722062697473206F722061206E6962626C652E'",
   "id": "b041a9b0db0024c",
   "outputs": [],
   "execution_count": 16
  },
  {
   "metadata": {
    "ExecuteTime": {
     "end_time": "2025-02-09T20:04:25.040217Z",
     "start_time": "2025-02-09T20:04:25.035703Z"
    }
   },
   "cell_type": "code",
   "source": [
    "# Using byte array to decode the whole string\n",
    "plaintext_hex = bytearray.fromhex(hex_test)\n",
    "print(type(plain_text), plaintext_hex)"
   ],
   "id": "e7d3bce459c14110",
   "outputs": [
    {
     "name": "stdout",
     "output_type": "stream",
     "text": [
      "<class 'str'> bytearray(b'Each hexadecimal digit represents four bits or a nibble.')\n"
     ]
    }
   ],
   "execution_count": 19
  },
  {
   "metadata": {},
   "cell_type": "markdown",
   "source": "### Base64\n",
   "id": "49fce71c050aa4b6"
  },
  {
   "metadata": {
    "ExecuteTime": {
     "end_time": "2025-02-09T20:17:34.025989Z",
     "start_time": "2025-02-09T20:17:34.022535Z"
    }
   },
   "cell_type": "code",
   "source": [
    "hex_text = '42617365363420697320776964656C79207573656420666F722073656E64696E6720652D6D61696C206174746163686D656E74732E'\n",
    "\n",
    "decoded_hex_string = bytearray.fromhex(hex_text)"
   ],
   "id": "6bd4491caae3378c",
   "outputs": [],
   "execution_count": 43
  },
  {
   "metadata": {
    "ExecuteTime": {
     "end_time": "2025-02-09T20:18:38.363425Z",
     "start_time": "2025-02-09T20:18:38.358886Z"
    }
   },
   "cell_type": "code",
   "source": [
    "import base64\n",
    "\n",
    "text_b64 = base64.b64encode(decoded_hex_string)\n"
   ],
   "id": "c4ddda7287c6bf57",
   "outputs": [],
   "execution_count": 46
  },
  {
   "metadata": {
    "ExecuteTime": {
     "end_time": "2025-02-09T20:18:39.739213Z",
     "start_time": "2025-02-09T20:18:39.734656Z"
    }
   },
   "cell_type": "code",
   "source": "base64.b64decode(text_b64).decode('utf-8')",
   "id": "7c54a47d0a95126f",
   "outputs": [
    {
     "data": {
      "text/plain": [
       "'Base64 is widely used for sending e-mail attachments.'"
      ]
     },
     "execution_count": 47,
     "metadata": {},
     "output_type": "execute_result"
    }
   ],
   "execution_count": 47
  },
  {
   "metadata": {},
   "cell_type": "markdown",
   "source": [
    "### Bytes & Big Integers\n",
    "\n",
    "The most common way is to take the ordinal bytes of the message, convert them into hexadecimal, and\n",
    "concatenate. This can be interpreted as a Base 16/hexadecimal number. It can also be represented in\n",
    "Base 10/decimal number. Decode the following integer back into an ASCII string:\n"
   ],
   "id": "7ef187b1fdd32969"
  },
  {
   "metadata": {
    "ExecuteTime": {
     "end_time": "2025-02-09T20:27:52.118563Z",
     "start_time": "2025-02-09T20:27:52.113937Z"
    }
   },
   "cell_type": "code",
   "source": "message_int = 340729841873182715861397179830856685654259321469692096127599848700034616712989535822328482917313631271598534498956022105309715286325299982013279476538056591160110165234154673739790739055092222057941412390792396213095811103894699574920250324039897163263561",
   "id": "1e3c7f948174a46c",
   "outputs": [],
   "execution_count": 58
  },
  {
   "metadata": {
    "ExecuteTime": {
     "end_time": "2025-02-09T20:29:52.221151Z",
     "start_time": "2025-02-09T20:29:52.218325Z"
    }
   },
   "cell_type": "code",
   "source": "b_size = (message_int.bit_length() +7) //8",
   "id": "34f8070b695b9aeb",
   "outputs": [],
   "execution_count": 64
  },
  {
   "metadata": {
    "ExecuteTime": {
     "end_time": "2025-02-09T20:30:43.030410Z",
     "start_time": "2025-02-09T20:30:43.025649Z"
    }
   },
   "cell_type": "code",
   "source": [
    "byte_array = message_int.to_bytes(b_size, 'little')\n",
    "byte_array.decode('ascii')"
   ],
   "id": "620e42061f122174",
   "outputs": [
    {
     "data": {
      "text/plain": [
       "'In Python3, the value of an integer is not restricted and can expand to the limit of the available memory.'"
      ]
     },
     "execution_count": 69,
     "metadata": {},
     "output_type": "execute_result"
    }
   ],
   "execution_count": 69
  },
  {
   "metadata": {},
   "cell_type": "markdown",
   "source": [
    "### XORs\n",
    "\n",
    "True only (no ambiguity):\n",
    "| 1 | 0 |\n",
    "|---|---|\n",
    "| 0 | 1 |"
   ],
   "id": "52bbb2f7383cc27e"
  },
  {
   "metadata": {},
   "cell_type": "markdown",
   "source": "### One-time pad\n",
   "id": "c262f44a7e254f83"
  }
 ],
 "metadata": {
  "kernelspec": {
   "display_name": "Python 3",
   "language": "python",
   "name": "python3"
  },
  "language_info": {
   "codemirror_mode": {
    "name": "ipython",
    "version": 2
   },
   "file_extension": ".py",
   "mimetype": "text/x-python",
   "name": "python",
   "nbconvert_exporter": "python",
   "pygments_lexer": "ipython2",
   "version": "2.7.6"
  }
 },
 "nbformat": 4,
 "nbformat_minor": 5
}
