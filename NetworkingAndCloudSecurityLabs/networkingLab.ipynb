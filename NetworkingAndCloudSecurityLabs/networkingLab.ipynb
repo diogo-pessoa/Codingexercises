{
 "cells": [
  {
   "metadata": {},
   "cell_type": "markdown",
   "source": [
    "Part 3 - analyzing events\n",
    "---\n",
    "\n",
    "Through the common shared folder Download event payload and load json into dict to parse message\n",
    "\n"
   ],
   "id": "4b224d4f048ac6c3"
  },
  {
   "cell_type": "code",
   "id": "initial_id",
   "metadata": {
    "collapsed": true,
    "jupyter": {
     "is_executing": true
    }
   },
   "source": [
    "\n",
    "\n",
    "with open('data/event_payload.json', 'r+', encoding='utf-8') as  file:\n",
    "    content = file.readlines()"
   ],
   "outputs": [],
   "execution_count": null
  },
  {
   "metadata": {
    "jupyter": {
     "is_executing": true
    }
   },
   "cell_type": "code",
   "source": "content",
   "id": "e9dc81de5f8fc9e2",
   "outputs": [],
   "execution_count": null
  },
  {
   "metadata": {
    "jupyter": {
     "is_executing": true
    }
   },
   "cell_type": "code",
   "source": "print(\"ready\")",
   "id": "48b7499e46d2661d",
   "outputs": [],
   "execution_count": null
  },
  {
   "metadata": {},
   "cell_type": "code",
   "outputs": [],
   "execution_count": null,
   "source": "",
   "id": "d4d6984aa278723"
  }
 ],
 "metadata": {
  "kernelspec": {
   "display_name": "Python 3",
   "language": "python",
   "name": "python3"
  },
  "language_info": {
   "codemirror_mode": {
    "name": "ipython",
    "version": 2
   },
   "file_extension": ".py",
   "mimetype": "text/x-python",
   "name": "python",
   "nbconvert_exporter": "python",
   "pygments_lexer": "ipython2",
   "version": "2.7.6"
  }
 },
 "nbformat": 4,
 "nbformat_minor": 5
}
